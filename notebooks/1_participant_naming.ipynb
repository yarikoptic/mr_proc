{
 "cells": [
  {
   "cell_type": "markdown",
   "metadata": {},
   "source": [
    "### Notebook to generate participant ids and populate `mr_proc_manifest.csv` for nimhans PD-YLO dataset"
   ]
  },
  {
   "cell_type": "code",
   "execution_count": 2,
   "metadata": {},
   "outputs": [],
   "source": [
    "import pandas as pd\n",
    "import numpy as np\n",
    "import glob\n",
    "import pydicom\n",
    "import os\n",
    "from pathlib import Path\n",
    "import shutil"
   ]
  },
  {
   "cell_type": "code",
   "execution_count": 17,
   "metadata": {},
   "outputs": [],
   "source": [
    "dataset_root = \"/home/nikhil/projects/NIMHANS/data/PD_YLO/\"\n",
    "raw_dicom_dir = f\"{dataset_root}downloads/YLOPD/YLOPD_49/\"\n",
    "dicom_dir = f\"{dataset_root}dicom/\"\n",
    "mr_proc_manifest = f\"{dataset_root}/tabular/demographics/mr_proc_manifest.csv\""
   ]
  },
  {
   "cell_type": "code",
   "execution_count": 21,
   "metadata": {},
   "outputs": [
    {
     "name": "stdout",
     "output_type": "stream",
     "text": [
      "n_particitpants: 2     n_particitpant_dicom_dirs: 10     dicom_reorg_participants: 2\n"
     ]
    },
    {
     "data": {
      "text/html": [
       "<div>\n",
       "<style scoped>\n",
       "    .dataframe tbody tr th:only-of-type {\n",
       "        vertical-align: middle;\n",
       "    }\n",
       "\n",
       "    .dataframe tbody tr th {\n",
       "        vertical-align: top;\n",
       "    }\n",
       "\n",
       "    .dataframe thead th {\n",
       "        text-align: right;\n",
       "    }\n",
       "</style>\n",
       "<table border=\"1\" class=\"dataframe\">\n",
       "  <thead>\n",
       "    <tr style=\"text-align: right;\">\n",
       "      <th></th>\n",
       "      <th>participant_id</th>\n",
       "      <th>age</th>\n",
       "      <th>sex</th>\n",
       "      <th>group</th>\n",
       "      <th>bids_id</th>\n",
       "      <th>dicom_id</th>\n",
       "    </tr>\n",
       "  </thead>\n",
       "  <tbody>\n",
       "    <tr>\n",
       "      <th>0</th>\n",
       "      <td>YLOPD_49</td>\n",
       "      <td>NaN</td>\n",
       "      <td>NaN</td>\n",
       "      <td>NaN</td>\n",
       "      <td>sub-sub-sub-sub-sub-sub-sub-sub-sub-YLOPD49</td>\n",
       "      <td>YLOPD49</td>\n",
       "    </tr>\n",
       "    <tr>\n",
       "      <th>1</th>\n",
       "      <td>YLOPD_50</td>\n",
       "      <td>NaN</td>\n",
       "      <td>NaN</td>\n",
       "      <td>NaN</td>\n",
       "      <td>sub-sub-sub-sub-sub-sub-sub-sub-sub-YLOPD50</td>\n",
       "      <td>YLOPD50</td>\n",
       "    </tr>\n",
       "  </tbody>\n",
       "</table>\n",
       "</div>"
      ],
      "text/plain": [
       "  participant_id  age  sex  group  \\\n",
       "0       YLOPD_49  NaN  NaN    NaN   \n",
       "1       YLOPD_50  NaN  NaN    NaN   \n",
       "\n",
       "                                       bids_id dicom_id  \n",
       "0  sub-sub-sub-sub-sub-sub-sub-sub-sub-YLOPD49  YLOPD49  \n",
       "1  sub-sub-sub-sub-sub-sub-sub-sub-sub-YLOPD50  YLOPD50  "
      ]
     },
     "execution_count": 21,
     "metadata": {},
     "output_type": "execute_result"
    }
   ],
   "source": [
    "manifest_df = pd.read_csv(mr_proc_manifest)\n",
    "\n",
    "participants = manifest_df[\"participant_id\"].values\n",
    "n_participants = len(participants)\n",
    "\n",
    "participant_dicom_dirs = os.listdir(f\"{dataset_root}/dicom/\")\n",
    "n_participant_dicom_dirs = len(participant_dicom_dirs)\n",
    "\n",
    "dicom_reorg_participants = set(participants) - set(participant_dicom_dirs)\n",
    "n_dicom_reorg_participants = len(dicom_reorg_participants)\n",
    "\n",
    "print(f\"n_particitpants: {n_participants} \\\n",
    "    n_particitpant_dicom_dirs: {n_participant_dicom_dirs} \\\n",
    "    dicom_reorg_participants: {n_dicom_reorg_participants}\")\n",
    "manifest_df"
   ]
  },
  {
   "cell_type": "markdown",
   "metadata": {},
   "source": [
    "### Sample dicom info"
   ]
  },
  {
   "cell_type": "code",
   "execution_count": 8,
   "metadata": {},
   "outputs": [],
   "source": [
    "src_fpath = \"/home/nikhil/projects/NIMHANS/data/PD_YLO/scratch/raw_dicom/YLOPD_49/22111703/37360001/79492935\"\n",
    "dcm_info = pydicom.dcmread(src_fpath)\n"
   ]
  },
  {
   "cell_type": "code",
   "execution_count": 22,
   "metadata": {},
   "outputs": [
    {
     "data": {
      "text/html": [
       "<div>\n",
       "<style scoped>\n",
       "    .dataframe tbody tr th:only-of-type {\n",
       "        vertical-align: middle;\n",
       "    }\n",
       "\n",
       "    .dataframe tbody tr th {\n",
       "        vertical-align: top;\n",
       "    }\n",
       "\n",
       "    .dataframe thead th {\n",
       "        text-align: right;\n",
       "    }\n",
       "</style>\n",
       "<table border=\"1\" class=\"dataframe\">\n",
       "  <thead>\n",
       "    <tr style=\"text-align: right;\">\n",
       "      <th></th>\n",
       "      <th>participant_id</th>\n",
       "      <th>age</th>\n",
       "      <th>sex</th>\n",
       "      <th>group</th>\n",
       "      <th>bids_id</th>\n",
       "      <th>dicom_id</th>\n",
       "      <th>a</th>\n",
       "    </tr>\n",
       "  </thead>\n",
       "  <tbody>\n",
       "    <tr>\n",
       "      <th>0</th>\n",
       "      <td>YLOPD_49</td>\n",
       "      <td>NaN</td>\n",
       "      <td>NaN</td>\n",
       "      <td>NaN</td>\n",
       "      <td>sub-sub-sub-sub-sub-sub-sub-sub-sub-YLOPD49</td>\n",
       "      <td>YLOPD49</td>\n",
       "      <td>sub-YLOPD_49</td>\n",
       "    </tr>\n",
       "    <tr>\n",
       "      <th>1</th>\n",
       "      <td>YLOPD_50</td>\n",
       "      <td>NaN</td>\n",
       "      <td>NaN</td>\n",
       "      <td>NaN</td>\n",
       "      <td>sub-sub-sub-sub-sub-sub-sub-sub-sub-YLOPD50</td>\n",
       "      <td>YLOPD50</td>\n",
       "      <td>sub-YLOPD_50</td>\n",
       "    </tr>\n",
       "  </tbody>\n",
       "</table>\n",
       "</div>"
      ],
      "text/plain": [
       "  participant_id  age  sex  group  \\\n",
       "0       YLOPD_49  NaN  NaN    NaN   \n",
       "1       YLOPD_50  NaN  NaN    NaN   \n",
       "\n",
       "                                       bids_id dicom_id             a  \n",
       "0  sub-sub-sub-sub-sub-sub-sub-sub-sub-YLOPD49  YLOPD49  sub-YLOPD_49  \n",
       "1  sub-sub-sub-sub-sub-sub-sub-sub-sub-YLOPD50  YLOPD50  sub-YLOPD_50  "
      ]
     },
     "execution_count": 22,
     "metadata": {},
     "output_type": "execute_result"
    }
   ],
   "source": [
    "manifest_df[\"a\"] = \"sub-\" + manifest_df[\"participant_id\"].astype(str)\n",
    "manifest_df"
   ]
  },
  {
   "cell_type": "code",
   "execution_count": null,
   "metadata": {},
   "outputs": [],
   "source": []
  }
 ],
 "metadata": {
  "interpreter": {
   "hash": "999c495fe9dc36b558f9181c52eb411f8d79bcfd8fb93141da57ede7d0ce5d9c"
  },
  "kernelspec": {
   "display_name": "Python 3.7.0 ('green_compute')",
   "language": "python",
   "name": "python3"
  },
  "language_info": {
   "codemirror_mode": {
    "name": "ipython",
    "version": 3
   },
   "file_extension": ".py",
   "mimetype": "text/x-python",
   "name": "python",
   "nbconvert_exporter": "python",
   "pygments_lexer": "ipython3",
   "version": "3.7.0"
  },
  "orig_nbformat": 4
 },
 "nbformat": 4,
 "nbformat_minor": 2
}
