{
 "cells": [
  {
   "cell_type": "markdown",
   "metadata": {},
   "source": [
    "### Notebook to discover acq protocol names\n",
    "    - Uses .heudiconv from the stage 1 run"
   ]
  },
  {
   "cell_type": "code",
   "execution_count": 42,
   "metadata": {},
   "outputs": [],
   "source": [
    "import pandas as pd\n",
    "import numpy as np\n",
    "from pathlib import Path"
   ]
  },
  {
   "cell_type": "code",
   "execution_count": 43,
   "metadata": {},
   "outputs": [],
   "source": [
    "dataset_root = \"/home/nikhil/projects/NIMHANS/data/PD_YLO/\"\n",
    "bids_dir = f\"{dataset_root}bids/\"\n",
    "heudiconv_dir = f\"{bids_dir}.heudiconv/\"\n",
    "dicominfo_file = \"{}/info/dicominfo_ses-{}.tsv\"\n",
    "mr_proc_manifest = f\"{dataset_root}/tabular/demographics/mr_proc_manifest.csv\""
   ]
  },
  {
   "cell_type": "code",
   "execution_count": 44,
   "metadata": {},
   "outputs": [],
   "source": [
    "def get_dicominfo(f):\n",
    "    cols = [\"protocol_name\",\"series_description\",\"image_type\"]\n",
    "    df = pd.read_csv(f, sep=\"\\t\")[cols]\n",
    "    \n",
    "    complex_protocols = df[\"protocol_name\"].value_counts() > 1\n",
    "    complex_protocols = list(complex_protocols[complex_protocols].index)\n",
    "    \n",
    "    simple_df = df[~df[\"protocol_name\"].isin(complex_protocols)]\n",
    "    complex_df = df[df[\"protocol_name\"].isin(complex_protocols)]\n",
    "\n",
    "    return simple_df, complex_df\n"
   ]
  },
  {
   "cell_type": "code",
   "execution_count": 45,
   "metadata": {},
   "outputs": [
    {
     "name": "stdout",
     "output_type": "stream",
     "text": [
      "n_simple_procols: 78\n",
      "n_complex_procols: 47\n",
      "Dropping common rows across participants\n",
      "n_simple_procols: 9\n",
      "n_complex_procols: 5\n"
     ]
    }
   ],
   "source": [
    "# read current participant manifest \n",
    "manifest_df = pd.read_csv(mr_proc_manifest)\n",
    "participants = manifest_df[\"participant_id\"].str.strip().values\n",
    "n_participants = len(participants)\n",
    "\n",
    "ses=\"01\"\n",
    "simple_dicominfo_df = pd.DataFrame()\n",
    "complex_dicominfo_df = pd.DataFrame()\n",
    "for participant in participants:\n",
    "    f = f\"{heudiconv_dir}{dicominfo_file.format(participant, ses)}\"\n",
    "    try:\n",
    "        s_df, c_df = get_dicominfo(f)\n",
    "    except:\n",
    "        print(f\"could not read dicominfo for {participant}\")\n",
    "        \n",
    "    simple_dicominfo_df = simple_dicominfo_df.append(s_df)\n",
    "    complex_dicominfo_df = complex_dicominfo_df.append(c_df)\n",
    "\n",
    "print(f\"n_simple_procols: {len(simple_dicominfo_df)}\")\n",
    "print(f\"n_complex_procols: {len(complex_dicominfo_df)}\")\n",
    "\n",
    "print(\"Dropping common rows across participants\")\n",
    "simple_dicominfo_df = simple_dicominfo_df.drop_duplicates()\n",
    "complex_dicominfo_df = complex_dicominfo_df.drop_duplicates()\n",
    "\n",
    "print(f\"n_simple_procols: {len(simple_dicominfo_df)}\")\n",
    "print(f\"n_complex_procols: {len(complex_dicominfo_df)}\")\n"
   ]
  },
  {
   "cell_type": "code",
   "execution_count": 46,
   "metadata": {},
   "outputs": [
    {
     "data": {
      "text/html": [
       "<div>\n",
       "<style scoped>\n",
       "    .dataframe tbody tr th:only-of-type {\n",
       "        vertical-align: middle;\n",
       "    }\n",
       "\n",
       "    .dataframe tbody tr th {\n",
       "        vertical-align: top;\n",
       "    }\n",
       "\n",
       "    .dataframe thead th {\n",
       "        text-align: right;\n",
       "    }\n",
       "</style>\n",
       "<table border=\"1\" class=\"dataframe\">\n",
       "  <thead>\n",
       "    <tr style=\"text-align: right;\">\n",
       "      <th></th>\n",
       "      <th>protocol_name</th>\n",
       "      <th>series_description</th>\n",
       "      <th>image_type</th>\n",
       "    </tr>\n",
       "  </thead>\n",
       "  <tbody>\n",
       "    <tr>\n",
       "      <th>0</th>\n",
       "      <td>MPRAGE GRAPPA2</td>\n",
       "      <td>MPRAGE GRAPPA2</td>\n",
       "      <td>('ORIGINAL', 'PRIMARY', 'M', 'NONE')</td>\n",
       "    </tr>\n",
       "    <tr>\n",
       "      <th>1</th>\n",
       "      <td>t2_space_dark-fluid_sag_p2_ns-t2prep</td>\n",
       "      <td>t2_space_dark-fluid_sag_p2_ns-t2prep</td>\n",
       "      <td>('ORIGINAL', 'PRIMARY', 'M', 'NONE')</td>\n",
       "    </tr>\n",
       "    <tr>\n",
       "      <th>4</th>\n",
       "      <td>MB_ep2d_bold_s8</td>\n",
       "      <td>MB_ep2d_bold_s8</td>\n",
       "      <td>('ORIGINAL', 'PRIMARY', 'FMRI', 'NONE')</td>\n",
       "    </tr>\n",
       "    <tr>\n",
       "      <th>5</th>\n",
       "      <td>t2_tse_tra_512</td>\n",
       "      <td>t2_tse_tra_512</td>\n",
       "      <td>('ORIGINAL', 'PRIMARY', 'M', 'NONE')</td>\n",
       "    </tr>\n",
       "    <tr>\n",
       "      <th>6</th>\n",
       "      <td>Diffusion_Kurtosis_FW_S2_modifide</td>\n",
       "      <td>Diffusion_Kurtosis_FW_S2_modifide</td>\n",
       "      <td>('ORIGINAL', 'PRIMARY', 'DIFFUSION', 'NONE')</td>\n",
       "    </tr>\n",
       "    <tr>\n",
       "      <th>7</th>\n",
       "      <td>Diffusion_Kurtosis_FW_S2_modifide_rev</td>\n",
       "      <td>Diffusion_Kurtosis_FW_S2_modifide_rev</td>\n",
       "      <td>('ORIGINAL', 'PRIMARY', 'DIFFUSION', 'NONE')</td>\n",
       "    </tr>\n",
       "    <tr>\n",
       "      <th>8</th>\n",
       "      <td>pcasl_3d_singleTI</td>\n",
       "      <td>pcasl_3d_singleTI</td>\n",
       "      <td>('ORIGINAL', 'PRIMARY', 'ASL', 'NONE')</td>\n",
       "    </tr>\n",
       "    <tr>\n",
       "      <th>0</th>\n",
       "      <td>AAhead_scout_64 CHANNEL</td>\n",
       "      <td>AAhead_scout_64 CHANNEL</td>\n",
       "      <td>('ORIGINAL', 'PRIMARY', 'M', 'NONE')</td>\n",
       "    </tr>\n",
       "    <tr>\n",
       "      <th>13</th>\n",
       "      <td>Phoenix Document</td>\n",
       "      <td>PhoenixZIPReport</td>\n",
       "      <td>('ORIGINAL', 'PRIMARY', 'OTHER', 'CSA REPORT')</td>\n",
       "    </tr>\n",
       "  </tbody>\n",
       "</table>\n",
       "</div>"
      ],
      "text/plain": [
       "                            protocol_name  \\\n",
       "0                          MPRAGE GRAPPA2   \n",
       "1    t2_space_dark-fluid_sag_p2_ns-t2prep   \n",
       "4                         MB_ep2d_bold_s8   \n",
       "5                          t2_tse_tra_512   \n",
       "6       Diffusion_Kurtosis_FW_S2_modifide   \n",
       "7   Diffusion_Kurtosis_FW_S2_modifide_rev   \n",
       "8                       pcasl_3d_singleTI   \n",
       "0                 AAhead_scout_64 CHANNEL   \n",
       "13                       Phoenix Document   \n",
       "\n",
       "                       series_description  \\\n",
       "0                          MPRAGE GRAPPA2   \n",
       "1    t2_space_dark-fluid_sag_p2_ns-t2prep   \n",
       "4                         MB_ep2d_bold_s8   \n",
       "5                          t2_tse_tra_512   \n",
       "6       Diffusion_Kurtosis_FW_S2_modifide   \n",
       "7   Diffusion_Kurtosis_FW_S2_modifide_rev   \n",
       "8                       pcasl_3d_singleTI   \n",
       "0                 AAhead_scout_64 CHANNEL   \n",
       "13                       PhoenixZIPReport   \n",
       "\n",
       "                                        image_type  \n",
       "0             ('ORIGINAL', 'PRIMARY', 'M', 'NONE')  \n",
       "1             ('ORIGINAL', 'PRIMARY', 'M', 'NONE')  \n",
       "4          ('ORIGINAL', 'PRIMARY', 'FMRI', 'NONE')  \n",
       "5             ('ORIGINAL', 'PRIMARY', 'M', 'NONE')  \n",
       "6     ('ORIGINAL', 'PRIMARY', 'DIFFUSION', 'NONE')  \n",
       "7     ('ORIGINAL', 'PRIMARY', 'DIFFUSION', 'NONE')  \n",
       "8           ('ORIGINAL', 'PRIMARY', 'ASL', 'NONE')  \n",
       "0             ('ORIGINAL', 'PRIMARY', 'M', 'NONE')  \n",
       "13  ('ORIGINAL', 'PRIMARY', 'OTHER', 'CSA REPORT')  "
      ]
     },
     "execution_count": 46,
     "metadata": {},
     "output_type": "execute_result"
    }
   ],
   "source": [
    "simple_dicominfo_df"
   ]
  },
  {
   "cell_type": "code",
   "execution_count": 47,
   "metadata": {},
   "outputs": [
    {
     "data": {
      "text/html": [
       "<div>\n",
       "<style scoped>\n",
       "    .dataframe tbody tr th:only-of-type {\n",
       "        vertical-align: middle;\n",
       "    }\n",
       "\n",
       "    .dataframe tbody tr th {\n",
       "        vertical-align: top;\n",
       "    }\n",
       "\n",
       "    .dataframe thead th {\n",
       "        text-align: right;\n",
       "    }\n",
       "</style>\n",
       "<table border=\"1\" class=\"dataframe\">\n",
       "  <thead>\n",
       "    <tr style=\"text-align: right;\">\n",
       "      <th></th>\n",
       "      <th>protocol_name</th>\n",
       "      <th>series_description</th>\n",
       "      <th>image_type</th>\n",
       "    </tr>\n",
       "  </thead>\n",
       "  <tbody>\n",
       "    <tr>\n",
       "      <th>2</th>\n",
       "      <td>Field_Mapping</td>\n",
       "      <td>Field_Mapping</td>\n",
       "      <td>('ORIGINAL', 'PRIMARY', 'M', 'NONE')</td>\n",
       "    </tr>\n",
       "    <tr>\n",
       "      <th>3</th>\n",
       "      <td>Field_Mapping</td>\n",
       "      <td>Field_Mapping</td>\n",
       "      <td>('ORIGINAL', 'PRIMARY', 'P', 'NONE')</td>\n",
       "    </tr>\n",
       "    <tr>\n",
       "      <th>9</th>\n",
       "      <td>t2_swi_tra_p2_2mm</td>\n",
       "      <td>t2_swi_tra_p2_2mm_Mag</td>\n",
       "      <td>('ORIGINAL', 'PRIMARY', 'T2_STAR', 'NONE')</td>\n",
       "    </tr>\n",
       "    <tr>\n",
       "      <th>10</th>\n",
       "      <td>t2_swi_tra_p2_2mm</td>\n",
       "      <td>t2_swi_tra_p2_2mm_Pha</td>\n",
       "      <td>('ORIGINAL', 'PRIMARY', 'T2_STAR', 'NONE')</td>\n",
       "    </tr>\n",
       "    <tr>\n",
       "      <th>11</th>\n",
       "      <td>t2_swi_tra_p2_2mm</td>\n",
       "      <td>t2_swi_tra_p2_2mm_SWI</td>\n",
       "      <td>('ORIGINAL', 'PRIMARY', 'SWI', 'NONE')</td>\n",
       "    </tr>\n",
       "  </tbody>\n",
       "</table>\n",
       "</div>"
      ],
      "text/plain": [
       "        protocol_name     series_description  \\\n",
       "2       Field_Mapping          Field_Mapping   \n",
       "3       Field_Mapping          Field_Mapping   \n",
       "9   t2_swi_tra_p2_2mm  t2_swi_tra_p2_2mm_Mag   \n",
       "10  t2_swi_tra_p2_2mm  t2_swi_tra_p2_2mm_Pha   \n",
       "11  t2_swi_tra_p2_2mm  t2_swi_tra_p2_2mm_SWI   \n",
       "\n",
       "                                    image_type  \n",
       "2         ('ORIGINAL', 'PRIMARY', 'M', 'NONE')  \n",
       "3         ('ORIGINAL', 'PRIMARY', 'P', 'NONE')  \n",
       "9   ('ORIGINAL', 'PRIMARY', 'T2_STAR', 'NONE')  \n",
       "10  ('ORIGINAL', 'PRIMARY', 'T2_STAR', 'NONE')  \n",
       "11      ('ORIGINAL', 'PRIMARY', 'SWI', 'NONE')  "
      ]
     },
     "execution_count": 47,
     "metadata": {},
     "output_type": "execute_result"
    }
   ],
   "source": [
    "complex_dicominfo_df"
   ]
  },
  {
   "cell_type": "code",
   "execution_count": null,
   "metadata": {},
   "outputs": [],
   "source": []
  }
 ],
 "metadata": {
  "interpreter": {
   "hash": "9e85faa3937191409befa9075f65ba0f49919df55e77b3fcca0bc43183dd2917"
  },
  "kernelspec": {
   "display_name": "Python 3.8.5 ('parkinsons')",
   "language": "python",
   "name": "python3"
  },
  "language_info": {
   "codemirror_mode": {
    "name": "ipython",
    "version": 3
   },
   "file_extension": ".py",
   "mimetype": "text/x-python",
   "name": "python",
   "nbconvert_exporter": "python",
   "pygments_lexer": "ipython3",
   "version": "3.8.5"
  },
  "orig_nbformat": 4
 },
 "nbformat": 4,
 "nbformat_minor": 2
}
