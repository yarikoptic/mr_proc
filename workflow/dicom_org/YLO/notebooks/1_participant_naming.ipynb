{
 "cells": [
  {
   "cell_type": "markdown",
   "metadata": {},
   "source": [
    "### Notebook to generate participant ids and populate `mr_proc_manifest.csv` for nimhans PD-YLO dataset"
   ]
  },
  {
   "cell_type": "code",
   "execution_count": 1,
   "metadata": {},
   "outputs": [],
   "source": [
    "import pandas as pd\n",
    "import numpy as np\n",
    "import glob\n",
    "import os\n",
    "import re\n",
    "from pathlib import Path\n",
    "import shutil"
   ]
  },
  {
   "cell_type": "code",
   "execution_count": 2,
   "metadata": {},
   "outputs": [],
   "source": [
    "dataset_root = \"/home/nikhil/projects/NIMHANS/data/PD_YLO/\"\n",
    "raw_dicom_dir = f\"{dataset_root}downloads/YLOPD/YLOPD_49/\"\n",
    "dicom_dir = f\"{dataset_root}dicom/\"\n",
    "mr_proc_manifest = f\"{dataset_root}/tabular/demographics/mr_proc_manifest.csv\""
   ]
  },
  {
   "cell_type": "code",
   "execution_count": 25,
   "metadata": {},
   "outputs": [],
   "source": [
    "def search_dicoms(root_dicom_dir):\n",
    "    \"\"\" Search and return list of dicom files from a scanner dicom-dir-tree output\n",
    "    \"\"\"\n",
    "    filelist = []\n",
    "    for root, dirs, files in os.walk(raw_dicom_dir):\n",
    "        for file in files:\n",
    "            filelist.append(os.path.join(root,file))\n",
    "    \n",
    "    n_dcms = len(filelist)\n",
    "    unique_dcm = set(filelist)\n",
    "    n_unique_dcm = len(unique_dcm)\n",
    "\n",
    "    if n_unique_dcm != n_dcms:\n",
    "        n_duplicates = n_dcms - n_unique_dcm\n",
    "        print(f\"Duplicate dicom names found for {n_duplicates} dcms\")\n",
    "\n",
    "    return unique_dcm\n",
    "\n",
    "def copy_dicoms(filelist, dicom_dir):\n",
    "    \"\"\" Copy dicoms from a scanner dicom-dir-tree output into a flat participant-level dir\n",
    "    \"\"\"\n",
    "    if not Path(dicom_dir).is_dir():\n",
    "        os.mkdir(dicom_dir)\n",
    "        for f in filelist:\n",
    "            f_basename = os.path.basename(f)\n",
    "            shutil.copyfile(f, f\"{dicom_dir}{f_basename}\")\n",
    "    else:\n",
    "        print(f\"participant dicoms already exist\")\n"
   ]
  },
  {
   "cell_type": "code",
   "execution_count": 28,
   "metadata": {},
   "outputs": [
    {
     "name": "stdout",
     "output_type": "stream",
     "text": [
      "n_particitpants: 1     n_particitpant_dicom_dirs: 1     dicom_reorg_participants: 0\n",
      "No new participants found for dicom reorg...\n"
     ]
    }
   ],
   "source": [
    "manifest_df = pd.read_csv(mr_proc_manifest)\n",
    "\n",
    "participants = manifest_df[\"participant_id\"].values\n",
    "n_participants = len(participants)\n",
    "\n",
    "participant_dicom_dirs = os.listdir(f\"{dataset_root}/dicom/\")\n",
    "n_participant_dicom_dirs = len(participant_dicom_dirs)\n",
    "\n",
    "dicom_reorg_participants = set(participants) - set(participant_dicom_dirs)\n",
    "n_dicom_reorg_participants = len(dicom_reorg_participants)\n",
    "\n",
    "print(f\"n_particitpants: {n_participants} \\\n",
    "    n_particitpant_dicom_dirs: {n_participant_dicom_dirs} \\\n",
    "    dicom_reorg_participants: {n_dicom_reorg_participants}\")\n",
    "\n",
    "if n_dicom_reorg_participants > 0:\n",
    "    for participant in dicom_reorg_participants:\n",
    "        print(f\"participant_id: {participant}\")\n",
    "        participant_raw_dicom_dir = f\"{raw_dicom_dir}{participant}/\"\n",
    "        raw_dcm_list = search_dicoms(participant_raw_dicom_dir)\n",
    "        print(f\"n_raw_dicom: {len(raw_dcm_list)}\")\n",
    "        participant_dicom_dir = f\"{dicom_dir}{participant}/\"\n",
    "        copy_dicoms(raw_dcm_list, participant_dicom_dir)\n",
    "\n",
    "else:\n",
    "    print(f\"No new participants found for dicom reorg...\")"
   ]
  },
  {
   "cell_type": "code",
   "execution_count": null,
   "metadata": {},
   "outputs": [],
   "source": []
  }
 ],
 "metadata": {
  "interpreter": {
   "hash": "999c495fe9dc36b558f9181c52eb411f8d79bcfd8fb93141da57ede7d0ce5d9c"
  },
  "kernelspec": {
   "display_name": "Python 3.7.0 ('green_compute')",
   "language": "python",
   "name": "python3"
  },
  "language_info": {
   "codemirror_mode": {
    "name": "ipython",
    "version": 3
   },
   "file_extension": ".py",
   "mimetype": "text/x-python",
   "name": "python",
   "nbconvert_exporter": "python",
   "pygments_lexer": "ipython3",
   "version": "3.7.0"
  },
  "orig_nbformat": 4
 },
 "nbformat": 4,
 "nbformat_minor": 2
}
